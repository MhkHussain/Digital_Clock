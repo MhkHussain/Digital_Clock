{
 "cells": [
  {
   "cell_type": "code",
   "execution_count": null,
   "id": "4fa5513f",
   "metadata": {},
   "outputs": [],
   "source": [
    "from tkinter import*\n",
    "import tkinter as tk\n",
    "import time\n",
    "clk=Tk()\n",
    "clk.title(\"Digital Clock\")\n",
    "clk.geometry(\"420x150\")\n",
    "#lk.resizable(1,1) #eight=FALSE, width= FALSE)\n",
    "\n",
    "txt_fnt= (\"Boulder\", 70, 'bold') #(font name, font size, style)\n",
    "bkg=\"yellow\"\n",
    "fog=\"red\"\n",
    "\n",
    "lbl= Label(clk, font=txt_fnt, bg=bkg, fg= fog, bd= 25) #bd= border width\n",
    "lbl.grid(row=0, column=1)\n",
    "\n",
    "def digital_clk():\n",
    "    time_now=time.strftime(\"%H:%M:%S\") #ate==(\"%M,%D,%Y')time==(\"%H,%M, %S\")\n",
    "    lbl.config(text=time_now)\n",
    "    lbl.after(200,digital_clk)\n",
    "\n",
    "digital_clk()\n",
    "clk.mainloop()"
   ]
  },
  {
   "cell_type": "code",
   "execution_count": null,
   "id": "d2e2d917",
   "metadata": {},
   "outputs": [],
   "source": []
  },
  {
   "cell_type": "code",
   "execution_count": null,
   "id": "f51bfc0c",
   "metadata": {},
   "outputs": [],
   "source": []
  }
 ],
 "metadata": {
  "kernelspec": {
   "display_name": "Python 3 (ipykernel)",
   "language": "python",
   "name": "python3"
  },
  "language_info": {
   "codemirror_mode": {
    "name": "ipython",
    "version": 3
   },
   "file_extension": ".py",
   "mimetype": "text/x-python",
   "name": "python",
   "nbconvert_exporter": "python",
   "pygments_lexer": "ipython3",
   "version": "3.8.9"
  }
 },
 "nbformat": 4,
 "nbformat_minor": 5
}
